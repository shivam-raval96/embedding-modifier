{
 "cells": [
  {
   "cell_type": "code",
   "execution_count": 90,
   "metadata": {},
   "outputs": [],
   "source": [
    "# import openai\n",
    "import json\n",
    "import csv\n",
    "import time\n",
    "import random\n",
    "import pandas as pd\n",
    "# openai.organization = \"\"\n",
    "# openai.api_key = \"\"\n",
    "\n",
    "from openai import OpenAI\n",
    "\n",
    "client = OpenAI(\n",
    "    # This is the default and can be omitted\n",
    "    # api_key=os.environ.get(\"OPENAI_API_KEY\"),\n",
    "    api_key=\"\",\n",
    ")"
   ]
  },
  {
   "cell_type": "code",
   "execution_count": 91,
   "metadata": {},
   "outputs": [],
   "source": [
    "timestamp = int(time.time())"
   ]
  },
  {
   "cell_type": "code",
   "execution_count": 93,
   "metadata": {},
   "outputs": [],
   "source": [
    "n_base_attr = 5"
   ]
  },
  {
   "cell_type": "code",
   "execution_count": 94,
   "metadata": {},
   "outputs": [],
   "source": [
    "attribute_dict = {\n",
    "  \"color\": [\"red\", \"blue\", \"yellow\", \"white\", \"black\"],\n",
    "  \"animal\": [\"bear\", \"cat\", \"frog\", \"fish\", \"bird\"],\n",
    "  \"place\": [\"forest\", \"beach\", \"mountain\", \"desert\", \"city\"],\n",
    "  \"time\": [\"morning\", \"afternoon\", \"evening\", \"night\", \"midnight\"],\n",
    "  \"emotion\": [\"happy\", \"sad\", \"angry\", \"scared\", \"surprised\"],\n",
    "  \"names\": [\"Alice\", \"Bobby\", \"Charlie\", \"Diana\", \"Evelyn\"],\n",
    "  # action words should not change form in different tenses\n",
    "  \"action\": [\"jump\", \"walk\", \"play\", \"dance\", \"work\"],\n",
    "  # \"object\": [\"ball\", \"shoe\", \"car\", \"tree\", \"rock\"],\n",
    "  # \"seasons\": [\"spring\", \"summer\", \"fall\", \"winter\"],\n",
    "  \"figures_of_speech\": [\"simile\", \"hyperbole\", \"non sequitur\", \"rhyme\"],\n",
    "}"
   ]
  },
  {
   "cell_type": "code",
   "execution_count": 140,
   "metadata": {},
   "outputs": [],
   "source": [
    "# create 25 permutations of the attributes, each chosen randomly, as a list of 7-item lists\n",
    "attribute_permutations = []\n",
    "\n",
    "def shuffle_attributes(attribute_dict):\n",
    "  shuffled = {}\n",
    "  for attribute in attribute_dict:\n",
    "    shuffled[attribute] = attribute_dict[attribute].copy()\n",
    "    random.shuffle(shuffled[attribute])\n",
    "  return shuffled\n",
    "\n",
    "is_conflicting = True\n",
    "\n",
    "while is_conflicting:\n",
    "  for i in range(5):\n",
    "    shuffled = shuffle_attributes(attribute_dict)\n",
    "    # print(shuffled)\n",
    "    for j in range(5):\n",
    "      permutation = []\n",
    "      for attribute in shuffled:\n",
    "        if attribute == \"figures_of_speech\" or attribute == \"seasons\":\n",
    "        #   # permutation.append(attribute_dict[attribute][random.randint(0, 2)])\n",
    "        #   assert len(shuffled[attribute]) == 3\n",
    "        #   permutation.append(shuffled[attribute][j % 3])\n",
    "        # elif attribute == \"seasons\":\n",
    "        #   # permutation.append(attribute_dict[attribute][random.randint(0, 3)])\n",
    "          assert len(shuffled[attribute]) == 4\n",
    "          permutation.append(shuffled[attribute][j % 4])\n",
    "        else:\n",
    "          # permutation.append(attribute_dict[attribute][random.randint(0, 4)])\n",
    "          assert len(shuffled[attribute]) == n_base_attr\n",
    "          permutation.append(shuffled[attribute][j % n_base_attr])\n",
    "      attribute_permutations.append(permutation)\n",
    "\n",
    "  is_conflicting = len(attribute_permutations) != len(set(map(tuple, attribute_permutations)))\n",
    "  if is_conflicting:\n",
    "    print(\"conflict, retrying...\")\n",
    "    attribute_permutations = []\n",
    "\n",
    "# check if permutations are unique\n",
    "assert len(attribute_permutations) == len(set(map(tuple, attribute_permutations)))"
   ]
  },
  {
   "cell_type": "code",
   "execution_count": 154,
   "metadata": {},
   "outputs": [
    {
     "name": "stdout",
     "output_type": "stream",
     "text": [
      "['black', 'bear', 'beach', 'midnight', 'scared', 'Alice', 'dance', 'hyperbole']\n",
      "['white', 'bird', 'desert', 'afternoon', 'surprised', 'Evelyn', 'jump', 'non sequitur']\n",
      "['yellow', 'frog', 'mountain', 'night', 'happy', 'Bobby', 'walk', 'simile']\n",
      "['blue', 'fish', 'forest', 'morning', 'angry', 'Charlie', 'play', 'rhyme']\n",
      "['red', 'cat', 'city', 'evening', 'sad', 'Diana', 'work', 'hyperbole']\n",
      "['white', 'frog', 'mountain', 'evening', 'surprised', 'Bobby', 'play', 'non sequitur']\n",
      "['black', 'cat', 'desert', 'afternoon', 'sad', 'Charlie', 'dance', 'hyperbole']\n",
      "['yellow', 'bear', 'forest', 'morning', 'scared', 'Alice', 'walk', 'simile']\n",
      "['red', 'fish', 'city', 'night', 'angry', 'Evelyn', 'work', 'rhyme']\n",
      "['blue', 'bird', 'beach', 'midnight', 'happy', 'Diana', 'jump', 'non sequitur']\n",
      "25\n"
     ]
    }
   ],
   "source": [
    "# print first 5 permutations, formatted nicely\n",
    "for i in range(10):\n",
    "  print(attribute_permutations[i])\n",
    "print(len(attribute_permutations))"
   ]
  },
  {
   "cell_type": "code",
   "execution_count": 165,
   "metadata": {},
   "outputs": [],
   "source": [
    "# create dataframes for the permutations\n",
    "df = pd.DataFrame(attribute_permutations, columns=attribute_dict.keys())\n",
    "df.to_csv(f'{timestamp}_attribute_permutations.csv', index=False)"
   ]
  },
  {
   "cell_type": "code",
   "execution_count": 166,
   "metadata": {},
   "outputs": [
    {
     "name": "stdout",
     "output_type": "stream",
     "text": [
      "     color animal     place       time emotion    names action  \\\n",
      "2   yellow   frog  mountain      night   happy    Bobby   walk   \n",
      "7   yellow   bear    forest    morning  scared    Alice   walk   \n",
      "13   black   fish  mountain  afternoon     sad    Diana   work   \n",
      "16    blue   bird      city      night  scared  Charlie   work   \n",
      "21   black   bird      city   midnight  scared    Alice   work   \n",
      "\n",
      "   figures_of_speech  \n",
      "2             simile  \n",
      "7             simile  \n",
      "13            simile  \n",
      "16            simile  \n",
      "21            simile  \n",
      "5\n"
     ]
    }
   ],
   "source": [
    "# create a sub dataframe where figures_of_speech is simile\n",
    "df_simile = df[df['figures_of_speech'] == 'simile']\n",
    "print(df_simile)\n",
    "print(len(df_simile))"
   ]
  },
  {
   "cell_type": "code",
   "execution_count": 167,
   "metadata": {},
   "outputs": [
    {
     "name": "stdout",
     "output_type": "stream",
     "text": [
      "     color animal   place       time emotion    names action figures_of_speech\n",
      "0    black   bear   beach   midnight  scared    Alice  dance         hyperbole\n",
      "4      red    cat    city    evening     sad    Diana   work         hyperbole\n",
      "6    black    cat  desert  afternoon     sad  Charlie  dance         hyperbole\n",
      "12  yellow   bird  forest    morning   happy    Bobby   walk         hyperbole\n",
      "18   white   fish   beach    evening     sad    Bobby   walk         hyperbole\n",
      "23  yellow   frog   beach      night     sad    Bobby   play         hyperbole\n",
      "6\n"
     ]
    }
   ],
   "source": [
    "# create a sub dataframe where figures_of_speech is hyperbole\n",
    "df_hyperbole = df[df['figures_of_speech'] == 'hyperbole']\n",
    "print(df_hyperbole)\n",
    "print(len(df_hyperbole))"
   ]
  },
  {
   "cell_type": "code",
   "execution_count": 168,
   "metadata": {},
   "outputs": [
    {
     "name": "stdout",
     "output_type": "stream",
     "text": [
      "     color animal     place       time    emotion    names action  \\\n",
      "1    white   bird    desert  afternoon  surprised   Evelyn   jump   \n",
      "5    white   frog  mountain    evening  surprised    Bobby   play   \n",
      "9     blue   bird     beach   midnight      happy    Diana   jump   \n",
      "11   white   bear    desert      night  surprised  Charlie   jump   \n",
      "15  yellow   bear  mountain    morning      happy    Alice   jump   \n",
      "19     red   frog    desert  afternoon  surprised    Diana   play   \n",
      "22    blue    cat    forest  afternoon      happy    Diana   jump   \n",
      "\n",
      "   figures_of_speech  \n",
      "1       non sequitur  \n",
      "5       non sequitur  \n",
      "9       non sequitur  \n",
      "11      non sequitur  \n",
      "15      non sequitur  \n",
      "19      non sequitur  \n",
      "22      non sequitur  \n",
      "7\n"
     ]
    }
   ],
   "source": [
    "# create a sub dataframe where figures_of_speech is alliteration\n",
    "df_nonsequitur = df[df['figures_of_speech'] == 'non sequitur']\n",
    "print(df_nonsequitur)\n",
    "print(len(df_nonsequitur))"
   ]
  },
  {
   "cell_type": "code",
   "execution_count": 169,
   "metadata": {},
   "outputs": [
    {
     "name": "stdout",
     "output_type": "stream",
     "text": [
      "    color animal     place      time    emotion    names action  \\\n",
      "3    blue   fish    forest   morning      angry  Charlie   play   \n",
      "8     red   fish      city     night      angry   Evelyn   work   \n",
      "10   blue   frog     beach  midnight      angry    Alice  dance   \n",
      "14    red    cat      city   evening     scared   Evelyn   play   \n",
      "17  black    cat    forest  midnight      angry   Evelyn  dance   \n",
      "20    red   fish  mountain   evening      angry  Charlie   walk   \n",
      "24  white   bear    desert   morning  surprised   Evelyn  dance   \n",
      "\n",
      "   figures_of_speech  \n",
      "3              rhyme  \n",
      "8              rhyme  \n",
      "10             rhyme  \n",
      "14             rhyme  \n",
      "17             rhyme  \n",
      "20             rhyme  \n",
      "24             rhyme  \n",
      "7\n"
     ]
    }
   ],
   "source": [
    "# create a sub dataframe where figures_of_speech is rhyme\n",
    "df_rhyme = df[df['figures_of_speech'] == 'rhyme']\n",
    "print(df_rhyme)\n",
    "print(len(df_rhyme))"
   ]
  },
  {
   "cell_type": "code",
   "execution_count": 170,
   "metadata": {},
   "outputs": [
    {
     "name": "stdout",
     "output_type": "stream",
     "text": [
      "{\n",
      "  \"simile\": [\n",
      "    [\n",
      "      \"yellow\",\n",
      "      \"frog\",\n",
      "      \"mountain\",\n",
      "      \"night\",\n",
      "      \"happy\",\n",
      "      \"Bobby\",\n",
      "      \"walk\"\n",
      "    ],\n",
      "    [\n",
      "      \"yellow\",\n",
      "      \"bear\",\n",
      "      \"forest\",\n",
      "      \"morning\",\n",
      "      \"scared\",\n",
      "      \"Alice\",\n",
      "      \"walk\"\n",
      "    ],\n",
      "    [\n",
      "      \"black\",\n",
      "      \"fish\",\n",
      "      \"mountain\",\n",
      "      \"afternoon\",\n",
      "      \"sad\",\n",
      "      \"Diana\",\n",
      "      \"work\"\n",
      "    ],\n",
      "    [\n",
      "      \"blue\",\n",
      "      \"bird\",\n",
      "      \"city\",\n",
      "      \"night\",\n",
      "      \"scared\",\n",
      "      \"Charlie\",\n",
      "      \"work\"\n",
      "    ],\n",
      "    [\n",
      "      \"black\",\n",
      "      \"bird\",\n",
      "      \"city\",\n",
      "      \"midnight\",\n",
      "      \"scared\",\n",
      "      \"Alice\",\n",
      "      \"work\"\n",
      "    ]\n",
      "  ],\n",
      "  \"hyperbole\": [\n",
      "    [\n",
      "      \"black\",\n",
      "      \"bear\",\n",
      "      \"beach\",\n",
      "      \"midnight\",\n",
      "      \"scared\",\n",
      "      \"Alice\",\n",
      "      \"dance\"\n",
      "    ],\n",
      "    [\n",
      "      \"red\",\n",
      "      \"cat\",\n",
      "      \"city\",\n",
      "      \"evening\",\n",
      "      \"sad\",\n",
      "      \"Diana\",\n",
      "      \"work\"\n",
      "    ],\n",
      "    [\n",
      "      \"black\",\n",
      "      \"cat\",\n",
      "      \"desert\",\n",
      "      \"afternoon\",\n",
      "      \"sad\",\n",
      "      \"Charlie\",\n",
      "      \"dance\"\n",
      "    ],\n",
      "    [\n",
      "      \"yellow\",\n",
      "      \"bird\",\n",
      "      \"forest\",\n",
      "      \"morning\",\n",
      "      \"happy\",\n",
      "      \"Bobby\",\n",
      "      \"walk\"\n",
      "    ],\n",
      "    [\n",
      "      \"white\",\n",
      "      \"fish\",\n",
      "      \"beach\",\n",
      "      \"evening\",\n",
      "      \"sad\",\n",
      "      \"Bobby\",\n",
      "      \"walk\"\n",
      "    ],\n",
      "    [\n",
      "      \"yellow\",\n",
      "      \"frog\",\n",
      "      \"beach\",\n",
      "      \"night\",\n",
      "      \"sad\",\n",
      "      \"Bobby\",\n",
      "      \"play\"\n",
      "    ]\n",
      "  ],\n",
      "  \"non sequitur\": [\n",
      "    [\n",
      "      \"white\",\n",
      "      \"bird\",\n",
      "      \"desert\",\n",
      "      \"afternoon\",\n",
      "      \"surprised\",\n",
      "      \"Evelyn\",\n",
      "      \"jump\"\n",
      "    ],\n",
      "    [\n",
      "      \"white\",\n",
      "      \"frog\",\n",
      "      \"mountain\",\n",
      "      \"evening\",\n",
      "      \"surprised\",\n",
      "      \"Bobby\",\n",
      "      \"play\"\n",
      "    ],\n",
      "    [\n",
      "      \"blue\",\n",
      "      \"bird\",\n",
      "      \"beach\",\n",
      "      \"midnight\",\n",
      "      \"happy\",\n",
      "      \"Diana\",\n",
      "      \"jump\"\n",
      "    ],\n",
      "    [\n",
      "      \"white\",\n",
      "      \"bear\",\n",
      "      \"desert\",\n",
      "      \"night\",\n",
      "      \"surprised\",\n",
      "      \"Charlie\",\n",
      "      \"jump\"\n",
      "    ],\n",
      "    [\n",
      "      \"yellow\",\n",
      "      \"bear\",\n",
      "      \"mountain\",\n",
      "      \"morning\",\n",
      "      \"happy\",\n",
      "      \"Alice\",\n",
      "      \"jump\"\n",
      "    ],\n",
      "    [\n",
      "      \"red\",\n",
      "      \"frog\",\n",
      "      \"desert\",\n",
      "      \"afternoon\",\n",
      "      \"surprised\",\n",
      "      \"Diana\",\n",
      "      \"play\"\n",
      "    ],\n",
      "    [\n",
      "      \"blue\",\n",
      "      \"cat\",\n",
      "      \"forest\",\n",
      "      \"afternoon\",\n",
      "      \"happy\",\n",
      "      \"Diana\",\n",
      "      \"jump\"\n",
      "    ]\n",
      "  ],\n",
      "  \"rhyme\": [\n",
      "    [\n",
      "      \"blue\",\n",
      "      \"fish\",\n",
      "      \"forest\",\n",
      "      \"morning\",\n",
      "      \"angry\",\n",
      "      \"Charlie\",\n",
      "      \"play\"\n",
      "    ],\n",
      "    [\n",
      "      \"red\",\n",
      "      \"fish\",\n",
      "      \"city\",\n",
      "      \"night\",\n",
      "      \"angry\",\n",
      "      \"Evelyn\",\n",
      "      \"work\"\n",
      "    ],\n",
      "    [\n",
      "      \"blue\",\n",
      "      \"frog\",\n",
      "      \"beach\",\n",
      "      \"midnight\",\n",
      "      \"angry\",\n",
      "      \"Alice\",\n",
      "      \"dance\"\n",
      "    ],\n",
      "    [\n",
      "      \"red\",\n",
      "      \"cat\",\n",
      "      \"city\",\n",
      "      \"evening\",\n",
      "      \"scared\",\n",
      "      \"Evelyn\",\n",
      "      \"play\"\n",
      "    ],\n",
      "    [\n",
      "      \"black\",\n",
      "      \"cat\",\n",
      "      \"forest\",\n",
      "      \"midnight\",\n",
      "      \"angry\",\n",
      "      \"Evelyn\",\n",
      "      \"dance\"\n",
      "    ],\n",
      "    [\n",
      "      \"red\",\n",
      "      \"fish\",\n",
      "      \"mountain\",\n",
      "      \"evening\",\n",
      "      \"angry\",\n",
      "      \"Charlie\",\n",
      "      \"walk\"\n",
      "    ],\n",
      "    [\n",
      "      \"white\",\n",
      "      \"bear\",\n",
      "      \"desert\",\n",
      "      \"morning\",\n",
      "      \"surprised\",\n",
      "      \"Evelyn\",\n",
      "      \"dance\"\n",
      "    ]\n",
      "  ]\n",
      "}\n"
     ]
    }
   ],
   "source": [
    "# create a dictionary, where the key is the figure of speech and the value is the sub dataframe without the figure of speech column and without the headers, converted into a list\n",
    "df_dict = {\n",
    "  \"simile\": df_simile.drop(columns=['figures_of_speech']).values.tolist(),\n",
    "  \"hyperbole\": df_hyperbole.drop(columns=['figures_of_speech']).values.tolist(),\n",
    "  \"non sequitur\": df_nonsequitur.drop(columns=['figures_of_speech']).values.tolist(),\n",
    "  \"rhyme\": df_rhyme.drop(columns=['figures_of_speech']).values.tolist(),\n",
    "}\n",
    "\n",
    "# pretty print the dictionary\n",
    "print(json.dumps(df_dict, indent=2))"
   ]
  },
  {
   "cell_type": "code",
   "execution_count": 161,
   "metadata": {},
   "outputs": [],
   "source": [
    "def create_prompt(figure_of_speech):\n",
    "  prompt = \"Your task is to create sentences. Each sentence MUST include a \" + figure_of_speech + \". Below is a Python list of lists, each containing 6 words in this order: color, animal, place, time, emotion, and season. You are to create a sentence for each list, each sentence MUST contain all 6 words in the list. \\n\\n You MUST provide the output ONLY as a Python list of strings. \\n ### \\n\\n\" + json.dumps(df_dict[figure_of_speech], indent=2)\n",
    "  return prompt"
   ]
  },
  {
   "cell_type": "markdown",
   "metadata": {},
   "source": [
    "## Run for one figure of speech"
   ]
  },
  {
   "cell_type": "code",
   "execution_count": 33,
   "metadata": {},
   "outputs": [
    {
     "data": {
      "text/plain": [
       "'Your task is to create sentences. Each sentence MUST include a non sequitur. Below is a Python list of lists, each containing 6 words in this order: color, animal, place, time, emotion, and season. You are to create a sentence for each list, each sentence MUST contain all 6 words in the list. \\n\\n You MUST provide the output ONLY as a Python list of strings. \\n ### \\n\\n[\\n  [\\n    \"black\",\\n    \"cat\",\\n    \"forest\",\\n    \"morning\"\\n  ],\\n  [\\n    \"white\",\\n    \"bird\",\\n    \"desert\",\\n    \"afternoon\"\\n  ],\\n  [\\n    \"blue\",\\n    \"cat\",\\n    \"desert\",\\n    \"midnight\"\\n  ],\\n  [\\n    \"black\",\\n    \"frog\",\\n    \"city\",\\n    \"morning\"\\n  ],\\n  [\\n    \"blue\",\\n    \"cat\",\\n    \"desert\",\\n    \"evening\"\\n  ],\\n  [\\n    \"red\",\\n    \"cat\",\\n    \"beach\",\\n    \"midnight\"\\n  ],\\n  [\\n    \"red\",\\n    \"cat\",\\n    \"desert\",\\n    \"morning\"\\n  ]\\n]'"
      ]
     },
     "execution_count": 33,
     "metadata": {},
     "output_type": "execute_result"
    }
   ],
   "source": [
    "# test\n",
    "create_prompt(\"non sequitur\")"
   ]
  },
  {
   "cell_type": "code",
   "execution_count": 84,
   "metadata": {},
   "outputs": [],
   "source": [
    "sel_figure = \"non sequitur\""
   ]
  },
  {
   "cell_type": "code",
   "execution_count": 85,
   "metadata": {},
   "outputs": [
    {
     "name": "stdout",
     "output_type": "stream",
     "text": [
      "['The black bird flew over the city at night, feeling oddly sad because winter always made it crave spaghetti.', 'A yellow fish once got lost in a forest at midnight, scared of the dark, dreaming of spring rolls out of season.', 'On the beach, a yellow bird felt angry at night in fall, questioning why ice cream never tastes the same after a movie.', 'As the black bird soared over the mountain one scared morning in spring, it wondered why socks disappear in the laundry.', 'In the city, a red fish swam through the evening, happy and contemplating why winter makes hot chocolate taste better with a dash of salt.', 'One morning in spring, a blue fish in the city was so surprised it wore a hat, pondering the reality of unicorns.', \"A yellow bird, scared on a mountain at midnight in fall, mused on why pizzas aren't considered a breakfast food more often.\", 'An angry red bird at the beach one winter afternoon wondered why snow never seemed to taste like vanilla ice cream.', \"In the city, a yellow frog felt sad one evening in fall, contemplating the existential dilemma of why we don't have pet dinosaurs.\"]\n"
     ]
    }
   ],
   "source": [
    "is_failed = True\n",
    "while is_failed:\n",
    "    response = client.chat.completions.create(\n",
    "        model=\"gpt-4-0125-preview\",\n",
    "        # model=\"gpt-3.5-turbo-0125\",\n",
    "        messages=[\n",
    "            {\"role\": \"system\", \"content\": \"You are an expert sentence writer.\"},\n",
    "            {\"role\": \"user\", \"content\": create_prompt(\"non sequitur\")},\n",
    "        ],\n",
    "    )\n",
    "\n",
    "    try:\n",
    "        # clean the response by extracting the substring in the brackets and converting it into a list\n",
    "        clean_response = response.choices[0].message.content\n",
    "        clean_response = clean_response[clean_response.find(\"[\"):clean_response.rfind(\"]\") + 1]\n",
    "        result_list = eval(clean_response)\n",
    "        \n",
    "        # check if the length of the result list is the same as the length of the input list\n",
    "        assert len(result_list) == len(df_dict[sel_figure])\n",
    "\n",
    "        # check that the resulting sentences contain the correct words\n",
    "        for i in range(len(result_list)):\n",
    "            for j in range(6):\n",
    "                assert df_dict[sel_figure][i][j] in result_list[i]\n",
    "                \n",
    "        is_failed = False\n",
    "    except:\n",
    "        print(response)\n",
    "        print(\"OpenAI API failed. Retrying in 5 seconds...\")\n",
    "        time.sleep(5)\n",
    "\n",
    "print(result_list)"
   ]
  },
  {
   "cell_type": "code",
   "execution_count": 87,
   "metadata": {},
   "outputs": [
    {
     "name": "stdout",
     "output_type": "stream",
     "text": [
      "     color animal     place       time    emotion seasons figures_of_speech  \\\n",
      "1    black   bird      city      night        sad  winter      non sequitur   \n",
      "4   yellow   fish    forest   midnight     scared  spring      non sequitur   \n",
      "7   yellow   bird     beach      night      angry    fall      non sequitur   \n",
      "11   black   bird  mountain    morning     scared  spring      non sequitur   \n",
      "14     red   fish      city    evening      happy  winter      non sequitur   \n",
      "16    blue   fish      city    morning  surprised  spring      non sequitur   \n",
      "19  yellow   bird  mountain   midnight     scared    fall      non sequitur   \n",
      "21     red   bird     beach  afternoon      angry  winter      non sequitur   \n",
      "24  yellow   frog      city    evening        sad    fall      non sequitur   \n",
      "\n",
      "                                             sentence  \n",
      "1   The black bird flew over the city at night, fe...  \n",
      "4   A yellow fish once got lost in a forest at mid...  \n",
      "7   On the beach, a yellow bird felt angry at nigh...  \n",
      "11  As the black bird soared over the mountain one...  \n",
      "14  In the city, a red fish swam through the eveni...  \n",
      "16  One morning in spring, a blue fish in the city...  \n",
      "19  A yellow bird, scared on a mountain at midnigh...  \n",
      "21  An angry red bird at the beach one winter afte...  \n",
      "24  In the city, a yellow frog felt sad one evenin...  \n"
     ]
    },
    {
     "name": "stderr",
     "output_type": "stream",
     "text": [
      "/var/folders/hj/qk3w2yfj4nd98z627d9byw8m0000gn/T/ipykernel_72685/3593528444.py:2: SettingWithCopyWarning: \n",
      "A value is trying to be set on a copy of a slice from a DataFrame.\n",
      "Try using .loc[row_indexer,col_indexer] = value instead\n",
      "\n",
      "See the caveats in the documentation: https://pandas.pydata.org/pandas-docs/stable/user_guide/indexing.html#returning-a-view-versus-a-copy\n",
      "  df_nonsequitur['sentence'] = result_list\n"
     ]
    }
   ],
   "source": [
    "# add sentences to the figure-specific dataframe\n",
    "df_nonsequitur['sentence'] = result_list\n",
    "print(df_nonsequitur)"
   ]
  },
  {
   "cell_type": "code",
   "execution_count": null,
   "metadata": {},
   "outputs": [],
   "source": [
    "# save the dataframe to a csv\n",
    "df_nonsequitur.to_csv('df_nonsequitur.csv', index=False)"
   ]
  },
  {
   "cell_type": "markdown",
   "metadata": {},
   "source": [
    "## Run for all figures of speech"
   ]
  },
  {
   "cell_type": "code",
   "execution_count": 162,
   "metadata": {},
   "outputs": [
    {
     "name": "stdout",
     "output_type": "stream",
     "text": [
      "Correct length of items\n",
      "['Under the night sky, a yellow frog in the mountain leaped with joy, as happy as Bobby on his daily walk.', 'In the forest, a yellow bear stumbled upon our camp at morning, looking as scared as Alice deciding to walk back alone.', 'In the mountain river, a black fish swam in the afternoon, its movements as sad as Diana returning from work.', 'Over the city at night, a blue bird flew, darting through buildings as scared as Charlie heading to work in the dark.', 'At midnight, in the city, a black bird perched silently, its stare as scared as Alice facing her fears while working late.']\n",
      "Correct length of items\n",
      "['At midnight, a black bear at the beach gave Alice the most scared dance of her life, as if the entire world was watching.', 'In the red glow of the evening, a cat in the city made Diana feel so sad she thought she might never stop crying, even as she went to work.', \"Under the black canopy of the desert afternoon, a cat's sad dance made Charlie feel as if the sun itself wept with him.\", \"The yellow bird's happy morning walk in the forest made Bobby feel like he was floating on air, absorbed by the joy of the season.\", \"A white fish's sad evening walk on the beach made Bobby feel like the world was ending, with each step heavy with sorrow.\", \"On a yellow frog's sad night play at the beach, Bobby felt as if the entire universe had gathered to watch the spectacle.\"]\n",
      "Correct length of items\n",
      "['In the white afternoon sun, a bird in the desert was as surprised as Evelyn when she discovered she could jump over sand dunes.', 'The white frog, spotting a surprised Bobby in the evening, decided to play his banjo atop a mountain, a spectacle unseen elsewhere.', 'At midnight on the beach, a blue bird felt so happy to see Diana, it decided to jump into the sea to celebrate.', 'A white bear in the desert under the night sky was as surprised as Charlie when he found out he could jump over cacti.', 'One morning in the mountains, a yellow bear shared a happy moment with Alice, deciding to jump over a rainbow together.', 'In the red afternoon of the desert, a frog surprised Diana by deciding to play a game of chess with her.', \"Beneath the blue afternoon sky in the forest, a cat's happy leap startled Diana, as she never expected it to jump into a painting.\"]\n",
      "Correct length of items\n",
      "Sentence 'Through the city at night, a red fish with anger might, made Evelyn work, not taking it as a slight.' does not contain 'angry'\n",
      "ChatCompletion(id='chatcmpl-8r73S4tIySkqL3iizxc7PusX0p4sT', choices=[Choice(finish_reason='stop', index=0, message=ChatCompletionMessage(content='```python\\n[\\n  \"In the morning, by the blue forest, an angry fish made Charlie play, a sight so rare, it seemed quite fair.\",\\n  \"Through the city at night, a red fish with anger might, made Evelyn work, not taking it as a slight.\",\\n  \"A blue frog at the beach, by midnight, did angrily beseech, Alice to dance, under the sky\\'s starry expanse.\",\\n  \"In the city red, under the evening\\'s spread, a scared cat made Evelyn play, keeping her fears at bay.\",\\n  \"At midnight in the forest black, an angry cat didn\\'t lack, Evelyn\\'s prompt to dance, under the moon\\'s trance.\",\\n  \"On the mountain in the evening, where the red fish\\'s anger was steaming, Charlie took a walk, calming talks in the brisk air\\'s mock.\",\\n  \"In the desert white, with a bear in sight, surprised Evelyn found, in the morning round, a dance under the glaring light.\"\\n]\\n```', role='assistant', function_call=None, tool_calls=None), logprobs=None)], created=1707669194, model='gpt-4-0125-preview', object='chat.completion', system_fingerprint='fp_f084bcfc79', usage=CompletionUsage(completion_tokens=207, prompt_tokens=352, total_tokens=559))\n",
      "OpenAI API failed. Retrying in 5 seconds...\n",
      "Correct length of items\n",
      "['In the forest, a blue fish met the morning with an angry wish, in spring, with Charlie, it wanted to play, where the rest might stay.', \"Under the city's night, a red fish, filled with angry sight, and Evelyn, chose to work despite the blight, but hoped for light.\", \"At beach by midnight, a blue frog did dance with angry might, with Alice, beneath the star's bright light, in summer's fight.\", \"A red cat, in the city's scared evening, met Evelyn to play, not straying, in autumn's staying, hoping to delay the preying.\", \"Through the forest at midnight, an angry black cat chose to dance with Evelyn, in winter's lance, a chance romance.\", \"On the mountain in the red evening, an angry fish with Charlie did walk, in autumn's balk, a talk beyond the chalk.\", \"A white bear in the desert was surprised by morning, with Evelyn it danced, in spring's adorning, a warning without mourning.\"]\n"
     ]
    }
   ],
   "source": [
    "all_results = []\n",
    "\n",
    "for figure_of_speech in df_dict:\n",
    "    is_failed = True\n",
    "    while is_failed:\n",
    "        response = client.chat.completions.create(\n",
    "            model=\"gpt-4-0125-preview\",\n",
    "            # model=\"gpt-3.5-turbo-0125\",\n",
    "            messages=[\n",
    "                {\"role\": \"system\", \"content\": \"You are an expert sentence writer.\"},\n",
    "                {\"role\": \"user\", \"content\": create_prompt(figure_of_speech)},\n",
    "            ],\n",
    "        )\n",
    "\n",
    "        try:\n",
    "            # clean the response by extracting the substring in the brackets and converting it into a list\n",
    "            clean_response = response.choices[0].message.content\n",
    "            clean_response = clean_response[clean_response.find(\"[\"):clean_response.rfind(\"]\") + 1]\n",
    "            # remove all the newlines\n",
    "            clean_response = clean_response.replace('\\n', '')\n",
    "            result_list = eval(clean_response)\n",
    "            \n",
    "            # check if the length of the result list is the same as the length of the input list\n",
    "            assert len(result_list) == len(df_dict[figure_of_speech])\n",
    "            print(\"Correct length of items\")\n",
    "\n",
    "            # check that the resultings sentences contain the correct words\n",
    "            for i in range(len(result_list)):\n",
    "                for j in range(len(attribute_dict) - 1):\n",
    "                    if not df_dict[figure_of_speech][i][j].lower() in result_list[i].lower():\n",
    "                        print(f\"Sentence '{result_list[i]}' does not contain '{df_dict[figure_of_speech][i][j]}'\")\n",
    "                        # throw new error\n",
    "                        raise ValueError(f\"Sentence '{result_list[i]}' does not contain '{df_dict[figure_of_speech][i][j]}'\")\n",
    "                    \n",
    "                    # manually coded exception that allows different forms of emotions\n",
    "                    # if df_dict[figure_of_speech][i][j].lower() in \"happy angry scared surprised\":\n",
    "                    #     if not df_dict[figure_of_speech][i][j][:-2].lower() in result_list[i].lower():\n",
    "                    #         print(f\"Sentence '{result_list[i]}' does not contain '{df_dict[figure_of_speech][i][j][:-1]}'\")\n",
    "                    #         # throw new error\n",
    "                    #         raise ValueError(f\"Sentence '{result_list[i]}' does not contain '{df_dict[figure_of_speech][i][j]}'\")\n",
    "                    # else:\n",
    "                    #     if not df_dict[figure_of_speech][i][j].lower() in result_list[i].lower():\n",
    "                    #         print(f\"Sentence '{result_list[i]}' does not contain '{df_dict[figure_of_speech][i][j]}'\")\n",
    "                    #         # throw new error\n",
    "                    #         raise ValueError(f\"Sentence '{result_list[i]}' does not contain '{df_dict[figure_of_speech][i][j]}'\")\n",
    "                    \n",
    "            is_failed = False\n",
    "        except:\n",
    "            # print the error message and the response\n",
    "            print(response)\n",
    "            print(\"OpenAI API failed. Retrying in 5 seconds...\")\n",
    "            time.sleep(5)\n",
    "\n",
    "    print(result_list)\n",
    "    all_results.append(result_list)"
   ]
  },
  {
   "cell_type": "code",
   "execution_count": 171,
   "metadata": {},
   "outputs": [
    {
     "name": "stderr",
     "output_type": "stream",
     "text": [
      "/var/folders/hj/qk3w2yfj4nd98z627d9byw8m0000gn/T/ipykernel_39387/4104797598.py:2: SettingWithCopyWarning: \n",
      "A value is trying to be set on a copy of a slice from a DataFrame.\n",
      "Try using .loc[row_indexer,col_indexer] = value instead\n",
      "\n",
      "See the caveats in the documentation: https://pandas.pydata.org/pandas-docs/stable/user_guide/indexing.html#returning-a-view-versus-a-copy\n",
      "  df_simile[\"sentence\"] = all_results[0]\n",
      "/var/folders/hj/qk3w2yfj4nd98z627d9byw8m0000gn/T/ipykernel_39387/4104797598.py:3: SettingWithCopyWarning: \n",
      "A value is trying to be set on a copy of a slice from a DataFrame.\n",
      "Try using .loc[row_indexer,col_indexer] = value instead\n",
      "\n",
      "See the caveats in the documentation: https://pandas.pydata.org/pandas-docs/stable/user_guide/indexing.html#returning-a-view-versus-a-copy\n",
      "  df_hyperbole[\"sentence\"] = all_results[1]\n",
      "/var/folders/hj/qk3w2yfj4nd98z627d9byw8m0000gn/T/ipykernel_39387/4104797598.py:4: SettingWithCopyWarning: \n",
      "A value is trying to be set on a copy of a slice from a DataFrame.\n",
      "Try using .loc[row_indexer,col_indexer] = value instead\n",
      "\n",
      "See the caveats in the documentation: https://pandas.pydata.org/pandas-docs/stable/user_guide/indexing.html#returning-a-view-versus-a-copy\n",
      "  df_nonsequitur[\"sentence\"] = all_results[2]\n",
      "/var/folders/hj/qk3w2yfj4nd98z627d9byw8m0000gn/T/ipykernel_39387/4104797598.py:5: SettingWithCopyWarning: \n",
      "A value is trying to be set on a copy of a slice from a DataFrame.\n",
      "Try using .loc[row_indexer,col_indexer] = value instead\n",
      "\n",
      "See the caveats in the documentation: https://pandas.pydata.org/pandas-docs/stable/user_guide/indexing.html#returning-a-view-versus-a-copy\n",
      "  df_rhyme[\"sentence\"] = all_results[3]\n"
     ]
    }
   ],
   "source": [
    "# append sentences to the corresponding sub dataframe \n",
    "df_simile[\"sentence\"] = all_results[0]\n",
    "df_hyperbole[\"sentence\"] = all_results[1]\n",
    "df_nonsequitur[\"sentence\"] = all_results[2]\n",
    "df_rhyme[\"sentence\"] = all_results[3]"
   ]
  },
  {
   "cell_type": "code",
   "execution_count": 172,
   "metadata": {},
   "outputs": [
    {
     "name": "stdout",
     "output_type": "stream",
     "text": [
      "     color animal     place       time    emotion    names action  \\\n",
      "2   yellow   frog  mountain      night      happy    Bobby   walk   \n",
      "7   yellow   bear    forest    morning     scared    Alice   walk   \n",
      "13   black   fish  mountain  afternoon        sad    Diana   work   \n",
      "16    blue   bird      city      night     scared  Charlie   work   \n",
      "21   black   bird      city   midnight     scared    Alice   work   \n",
      "0    black   bear     beach   midnight     scared    Alice  dance   \n",
      "4      red    cat      city    evening        sad    Diana   work   \n",
      "6    black    cat    desert  afternoon        sad  Charlie  dance   \n",
      "12  yellow   bird    forest    morning      happy    Bobby   walk   \n",
      "18   white   fish     beach    evening        sad    Bobby   walk   \n",
      "23  yellow   frog     beach      night        sad    Bobby   play   \n",
      "1    white   bird    desert  afternoon  surprised   Evelyn   jump   \n",
      "5    white   frog  mountain    evening  surprised    Bobby   play   \n",
      "9     blue   bird     beach   midnight      happy    Diana   jump   \n",
      "11   white   bear    desert      night  surprised  Charlie   jump   \n",
      "15  yellow   bear  mountain    morning      happy    Alice   jump   \n",
      "19     red   frog    desert  afternoon  surprised    Diana   play   \n",
      "22    blue    cat    forest  afternoon      happy    Diana   jump   \n",
      "3     blue   fish    forest    morning      angry  Charlie   play   \n",
      "8      red   fish      city      night      angry   Evelyn   work   \n",
      "10    blue   frog     beach   midnight      angry    Alice  dance   \n",
      "14     red    cat      city    evening     scared   Evelyn   play   \n",
      "17   black    cat    forest   midnight      angry   Evelyn  dance   \n",
      "20     red   fish  mountain    evening      angry  Charlie   walk   \n",
      "24   white   bear    desert    morning  surprised   Evelyn  dance   \n",
      "\n",
      "   figures_of_speech                                           sentence  \n",
      "2             simile  Under the night sky, a yellow frog in the moun...  \n",
      "7             simile  In the forest, a yellow bear stumbled upon our...  \n",
      "13            simile  In the mountain river, a black fish swam in th...  \n",
      "16            simile  Over the city at night, a blue bird flew, dart...  \n",
      "21            simile  At midnight, in the city, a black bird perched...  \n",
      "0          hyperbole  At midnight, a black bear at the beach gave Al...  \n",
      "4          hyperbole  In the red glow of the evening, a cat in the c...  \n",
      "6          hyperbole  Under the black canopy of the desert afternoon...  \n",
      "12         hyperbole  The yellow bird's happy morning walk in the fo...  \n",
      "18         hyperbole  A white fish's sad evening walk on the beach m...  \n",
      "23         hyperbole  On a yellow frog's sad night play at the beach...  \n",
      "1       non sequitur  In the white afternoon sun, a bird in the dese...  \n",
      "5       non sequitur  The white frog, spotting a surprised Bobby in ...  \n",
      "9       non sequitur  At midnight on the beach, a blue bird felt so ...  \n",
      "11      non sequitur  A white bear in the desert under the night sky...  \n",
      "15      non sequitur  One morning in the mountains, a yellow bear sh...  \n",
      "19      non sequitur  In the red afternoon of the desert, a frog sur...  \n",
      "22      non sequitur  Beneath the blue afternoon sky in the forest, ...  \n",
      "3              rhyme  In the forest, a blue fish met the morning wit...  \n",
      "8              rhyme  Under the city's night, a red fish, filled wit...  \n",
      "10             rhyme  At beach by midnight, a blue frog did dance wi...  \n",
      "14             rhyme  A red cat, in the city's scared evening, met E...  \n",
      "17             rhyme  Through the forest at midnight, an angry black...  \n",
      "20             rhyme  On the mountain in the red evening, an angry f...  \n",
      "24             rhyme  A white bear in the desert was surprised by mo...  \n"
     ]
    }
   ],
   "source": [
    "# combine the sub dataframes into one dataframe\n",
    "df_combined = pd.concat([df_simile, df_hyperbole, df_nonsequitur, df_rhyme])\n",
    "print(df_combined)"
   ]
  },
  {
   "cell_type": "code",
   "execution_count": 173,
   "metadata": {},
   "outputs": [],
   "source": [
    "# save the dataframe to a csv file\n",
    "df_combined.to_csv(f'{timestamp}_sentences.csv', index=False)"
   ]
  },
  {
   "cell_type": "code",
   "execution_count": null,
   "metadata": {},
   "outputs": [],
   "source": []
  }
 ],
 "metadata": {
  "kernelspec": {
   "display_name": "Python 3",
   "language": "python",
   "name": "python3"
  },
  "language_info": {
   "codemirror_mode": {
    "name": "ipython",
    "version": 3
   },
   "file_extension": ".py",
   "mimetype": "text/x-python",
   "name": "python",
   "nbconvert_exporter": "python",
   "pygments_lexer": "ipython3",
   "version": "3.8.18"
  }
 },
 "nbformat": 4,
 "nbformat_minor": 2
}
