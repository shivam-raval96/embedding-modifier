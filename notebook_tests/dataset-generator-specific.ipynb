{
 "cells": [
  {
   "cell_type": "code",
   "execution_count": 11,
   "metadata": {},
   "outputs": [],
   "source": [
    "import openai\n",
    "import json\n",
    "import csv\n",
    "import time\n",
    "openai.organization = \"\"\n",
    "openai.api_key = \"\""
   ]
  },
  {
   "cell_type": "code",
   "execution_count": 12,
   "metadata": {},
   "outputs": [],
   "source": [
    "timestamp = time.time()"
   ]
  },
  {
   "cell_type": "code",
   "execution_count": 13,
   "metadata": {},
   "outputs": [],
   "source": [
    "# rhyme\n",
    "# prompt = \"Your task is to create a sentence. Each sentence MUST include rhyme. Each sentence MUST have two parts separated by a comma and each part ending with words that rhyme together. Each sentence MUST also include one of each of these 6 word-based features: (1) an animal, (2) a place, (3) a color, (4) a time of day, (5) an emotion, (6) a season. \\n\\nMake sure that the features are familiar, simple, and easy to identify. \\n\\nPlease create 5 of such sentences. You MUST provide the output ONLY as a Python list of dictionaries:\\n\\n[ \\n  { \\n          \\\"figure_of_speech\\\": \\\"rhyme\\\",\\n    \\\"word_features\\\": {\\n      \\\"animal\\\": <the animal in the sentence>,\\n      \\\"place\\\": <the place in the sentence>,\\n      \\\"color\\\": <the color in the sentence>,\\n      \\\"time\\\": <the time of day in the sentence>,\\n      \\\"emotion\\\": <the emotion in the sentence>,\\n      \\\"season\\\": <the season in the sentence>,\\n    },\\n    \\\"sentence\\\": <the generated sentence>\\n  },\\n  {\\n    ...\\n  }\\n  ...\\n]\"\n",
    "\n",
    "# simile\n",
    "# prompt = \"Your task is to create a sentence. Each sentence MUST include a simile. Each sentence MUST also include one of each of these 6 word-based features: (1) an animal, (2) a place, (3) a color, (4) a time of day, (5) an emotion, (6) a season. \\n\\nMake sure that the features are familiar, simple, and easy to identify. \\n\\nPlease create 5 of such sentences. You MUST provide the output ONLY as a Python list of dictionaries:\\n\\n[ \\n  { \\n          \\\"figure_of_speech\\\": \\\"simile\\\",\\n    \\\"word_features\\\": {\\n      \\\"animal\\\": <the animal in the sentence>,\\n      \\\"place\\\": <the place in the sentence>,\\n      \\\"color\\\": <the color in the sentence>,\\n      \\\"time\\\": <the time of day in the sentence>,\\n      \\\"emotion\\\": <the emotion in the sentence>,\\n      \\\"season\\\": <the season in the sentence>,\\n    },\\n    \\\"sentence\\\": <the generated sentence>\\n  },\\n  {\\n    ...\\n  }\\n  ...\\n]\"\n",
    "\n",
    "# hyperbole\n",
    "prompt = \"Your task is to create a sentence. Each sentence MUST include a hyperbole. Each sentence MUST also include one of each of these 6 word-based features: (1) an animal, (2) a place, (3) a color, (4) a time of day, (5) an emotion, (6) a season. \\n\\nMake sure that the features are familiar, simple, and easy to identify. \\n\\nPlease create 5 of such sentences. You MUST provide the output ONLY as a Python list of dictionaries:\\n\\n[ \\n  { \\n          \\\"figure_of_speech\\\": \\\"hyperbole\\\",\\n    \\\"word_features\\\": {\\n      \\\"animal\\\": <the animal in the sentence>,\\n      \\\"place\\\": <the place in the sentence>,\\n      \\\"color\\\": <the color in the sentence>,\\n      \\\"time\\\": <the time of day in the sentence>,\\n      \\\"emotion\\\": <the emotion in the sentence>,\\n      \\\"season\\\": <the season in the sentence>,\\n    },\\n    \\\"sentence\\\": <the generated sentence>\\n  },\\n  {\\n    ...\\n  }\\n  ...\\n]\"\n"
   ]
  },
  {
   "cell_type": "code",
   "execution_count": 14,
   "metadata": {},
   "outputs": [
    {
     "name": "stdout",
     "output_type": "stream",
     "text": [
      "Starting iteration 0...\n",
      "Finished iteration 0. Doing next iteration in 5 seconds...\n",
      "Starting iteration 1...\n",
      "Finished iteration 1. Doing next iteration in 5 seconds...\n",
      "Starting iteration 2...\n",
      "Finished iteration 2. Doing next iteration in 5 seconds...\n",
      "Starting iteration 3...\n",
      "Finished iteration 3. Doing next iteration in 5 seconds...\n",
      "Starting iteration 4...\n",
      "Finished iteration 4. Doing next iteration in 5 seconds...\n",
      "Starting iteration 5...\n",
      "Finished iteration 5. Doing next iteration in 5 seconds...\n",
      "Starting iteration 6...\n",
      "Finished iteration 6. Doing next iteration in 5 seconds...\n",
      "Starting iteration 7...\n",
      "Finished iteration 7. Doing next iteration in 5 seconds...\n",
      "Starting iteration 8...\n",
      "Finished iteration 8. Doing next iteration in 5 seconds...\n",
      "Starting iteration 9...\n",
      "Finished iteration 9. Doing next iteration in 5 seconds...\n",
      "Finished job. Results saved to ./results/result_list_1701865693.729492.csv\n"
     ]
    }
   ],
   "source": [
    "all_results = []\n",
    "\n",
    "for idx in range(10):\n",
    "    print(f\"Starting iteration {idx}...\")\n",
    "    is_failed = True\n",
    "    while is_failed:\n",
    "        response = openai.ChatCompletion.create(\n",
    "            model=\"gpt-4\",\n",
    "            messages=[\n",
    "                {\"role\": \"system\", \"content\": \"You are an expert sentence writer.\"},\n",
    "                {\"role\": \"user\", \"content\": prompt},\n",
    "            ]\n",
    "        )\n",
    "\n",
    "        try:\n",
    "            result_list = eval(response.choices[0].message.content)\n",
    "            is_failed = False\n",
    "        except:\n",
    "            print(\"OpenAI API failed. Retrying in 5 seconds...\")\n",
    "            time.sleep(5)\n",
    "\n",
    "    with open(f'./results/result_list_{timestamp}_{idx}.json', 'w') as fp:\n",
    "        json.dump(result_list, fp, indent=4, sort_keys=True)\n",
    "\n",
    "    for result in result_list:\n",
    "        result['animal'] = result['word_features']['animal']\n",
    "        result['place'] = result['word_features']['place']\n",
    "        result['color'] = result['word_features']['color']\n",
    "        result['time'] = result['word_features']['time']\n",
    "        result['emotion'] = result['word_features']['emotion']\n",
    "        result['season'] = result['word_features']['season']\n",
    "        # properly escape and stringify sentence\n",
    "        result['sentence'] = json.dumps(result['sentence'])\n",
    "        # remove word_features\n",
    "        del result['word_features']\n",
    "\n",
    "    all_results.extend(result_list)\n",
    "    print(f\"Finished iteration {idx}. Doing next iteration in 5 seconds...\")\n",
    "    time.sleep(5)\n",
    "\n",
    "with open(f'./results/result_list_{timestamp}.csv', 'w') as f:\n",
    "    w = csv.DictWriter(f, all_results[0].keys())\n",
    "    w.writeheader()\n",
    "    for row in all_results:\n",
    "        w.writerow(row)\n",
    "\n",
    "print(f\"Finished job. Results saved to ./results/result_list_{timestamp}.csv\")"
   ]
  },
  {
   "cell_type": "markdown",
   "metadata": {},
   "source": [
    "## Test fragments"
   ]
  },
  {
   "cell_type": "code",
   "execution_count": 49,
   "metadata": {},
   "outputs": [],
   "source": [
    "response = openai.ChatCompletion.create(\n",
    "    model=\"gpt-4\",\n",
    "    messages=[\n",
    "        {\"role\": \"system\", \"content\": \"You are an expert sentence writer.\"},\n",
    "        {\"role\": \"user\", \"content\": prompt},\n",
    "    ]\n",
    ")\n",
    "\n",
    "# print(response)\n",
    "# print(response.choices[0].message.content)"
   ]
  },
  {
   "cell_type": "code",
   "execution_count": 51,
   "metadata": {},
   "outputs": [
    {
     "name": "stdout",
     "output_type": "stream",
     "text": [
      "[\n",
      "    {\n",
      "        \"figure_of_speech\": \"simile\",\n",
      "        \"sentence\": \"As brave as a golden lion, he faced fear every summer morning in the Sahara.\",\n",
      "        \"word_features\": {\n",
      "            \"animal\": \"lion\",\n",
      "            \"color\": \"gold\",\n",
      "            \"emotion\": \"fear\",\n",
      "            \"place\": \"Sahara\",\n",
      "            \"season\": \"summer\",\n",
      "            \"time\": \"morning\"\n",
      "        }\n",
      "    },\n",
      "    {\n",
      "        \"figure_of_speech\": \"hyperbole\",\n",
      "        \"sentence\": \"The dolphin's joy on this blue spring noon in the ocean could reach the sky.\",\n",
      "        \"word_features\": {\n",
      "            \"animal\": \"dolphin\",\n",
      "            \"color\": \"blue\",\n",
      "            \"emotion\": \"joy\",\n",
      "            \"place\": \"ocean\",\n",
      "            \"season\": \"spring\",\n",
      "            \"time\": \"noon\"\n",
      "        }\n",
      "    },\n",
      "    {\n",
      "        \"figure_of_speech\": \"rhyme\",\n",
      "        \"sentence\": \"Under the gray of fall dusk, in a calm park, a sparrow strokes, it's nature's remark.\",\n",
      "        \"word_features\": {\n",
      "            \"animal\": \"sparrow\",\n",
      "            \"color\": \"gray\",\n",
      "            \"emotion\": \"calm\",\n",
      "            \"place\": \"park\",\n",
      "            \"season\": \"fall\",\n",
      "            \"time\": \"dusk\"\n",
      "        }\n",
      "    },\n",
      "    {\n",
      "        \"figure_of_speech\": \"simile\",\n",
      "        \"sentence\": \"Elation in the afternoon, in the garden's summer bloom, like a red butterfly in flight.\",\n",
      "        \"word_features\": {\n",
      "            \"animal\": \"butterfly\",\n",
      "            \"color\": \"red\",\n",
      "            \"emotion\": \"elation\",\n",
      "            \"place\": \"garden\",\n",
      "            \"season\": \"summer\",\n",
      "            \"time\": \"afternoon\"\n",
      "        }\n",
      "    },\n",
      "    {\n",
      "        \"figure_of_speech\": \"hyperbole\",\n",
      "        \"sentence\": \"The mystery of the white owl in the winter woods at midnight is as vast as the universe.\",\n",
      "        \"word_features\": {\n",
      "            \"animal\": \"owl\",\n",
      "            \"color\": \"white\",\n",
      "            \"emotion\": \"mystery\",\n",
      "            \"place\": \"woods\",\n",
      "            \"season\": \"winter\",\n",
      "            \"time\": \"midnight\"\n",
      "        }\n",
      "    }\n",
      "]\n"
     ]
    }
   ],
   "source": [
    "result_list = eval(response.choices[0].message.content)\n",
    "\n",
    "# pretty print dictionary\n",
    "# print(json.dumps(result_list, indent=4, sort_keys=True))"
   ]
  },
  {
   "cell_type": "code",
   "execution_count": 52,
   "metadata": {},
   "outputs": [],
   "source": [
    "# save as json file\n",
    "idx = 0\n",
    "with open(f'result_list_{timestamp}_{idx}.json', 'w') as fp:\n",
    "    json.dump(result_list, fp, indent=4, sort_keys=True)"
   ]
  },
  {
   "cell_type": "code",
   "execution_count": 53,
   "metadata": {},
   "outputs": [],
   "source": [
    "for result in result_list:\n",
    "    result['animal'] = result['word_features']['animal']\n",
    "    result['place'] = result['word_features']['place']\n",
    "    result['color'] = result['word_features']['color']\n",
    "    result['time'] = result['word_features']['time']\n",
    "    result['emotion'] = result['word_features']['emotion']\n",
    "    result['season'] = result['word_features']['season']\n",
    "    # properly escape and stringify sentence\n",
    "    result['sentence'] = json.dumps(result['sentence'])\n",
    "    # remove word_features\n",
    "    del result['word_features']\n",
    "\n",
    "# print(json.dumps(result_list, indent=4, sort_keys=True))"
   ]
  },
  {
   "cell_type": "code",
   "execution_count": 54,
   "metadata": {},
   "outputs": [],
   "source": [
    "# save as csv file\n",
    "idx = 0\n",
    "with open(f'result_list_{timestamp}.csv', 'w') as f:\n",
    "    w = csv.DictWriter(f, result_list[0].keys())\n",
    "    w.writeheader()\n",
    "    for row in result_list:\n",
    "        w.writerow(row)"
   ]
  },
  {
   "cell_type": "code",
   "execution_count": null,
   "metadata": {},
   "outputs": [],
   "source": []
  }
 ],
 "metadata": {
  "kernelspec": {
   "display_name": "Python 3",
   "language": "python",
   "name": "python3"
  },
  "language_info": {
   "codemirror_mode": {
    "name": "ipython",
    "version": 3
   },
   "file_extension": ".py",
   "mimetype": "text/x-python",
   "name": "python",
   "nbconvert_exporter": "python",
   "pygments_lexer": "ipython3",
   "version": "3.8.18"
  }
 },
 "nbformat": 4,
 "nbformat_minor": 2
}
